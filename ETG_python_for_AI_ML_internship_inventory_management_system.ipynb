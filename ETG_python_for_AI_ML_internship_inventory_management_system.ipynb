{
  "nbformat": 4,
  "nbformat_minor": 0,
  "metadata": {
    "colab": {
      "name": "ETG python for AI/ML internship inventory management system.ipynb",
      "provenance": []
    },
    "kernelspec": {
      "name": "python3",
      "display_name": "Python 3"
    },
    "language_info": {
      "name": "python"
    }
  },
  "cells": [
    {
      "cell_type": "code",
      "metadata": {
        "id": "W2__ytNhj6bB"
      },
      "source": [
        "record = {1:{\"product id\":1,\"name\":\"kit kat\",\"category\":\"chocolate\",\"price\":10,\"exp_date\":\"12 dec 2021\",\"quantity\":2000},\n",
        "          2:{\"product id\":2,\"name\":\"5 star\",\"category\":\"chocolate\",\"price\":5,\"exp_date\":\"15 dec 2021\",\"quantity\":2000},\n",
        "          3:{\"product id\":3,\"name\":\"dairy milk\",\"category\":\"chocolate\",\"price\":50,\"exp_date\":\"20 dec 2021\",\"quantity\":2000},\n",
        "          4:{\"product id\":4,\"name\":\"milky bar\",\"category\":\"chocolate\",\"price\":25,\"exp_date\":\"25 dec 2021\",\"quantity\":2000},\n",
        "          5:{\"product id\":5,\"name\":\"nestle\",\"category\":\"chocolate\",\"price\":30,\"exp_date\":\"3 dec 2021\",\"quantity\":2000},\n",
        "          6:{\"product id\":6,\"name\":\"chocolate ice-cream\",\"category\":\"ice cream\",\"price\":100,\"exp_date\":\"27 dec 2021\",\"quantity\":2000},\n",
        "          7:{\"product id\":7,\"name\":\"vanilla ice-cream\",\"category\":\"ice cream\",\"price\":70,\"exp_date\":\"12 dec 2021\",\"quantity\":2000},\n",
        "          8:{\"product id\":8,\"name\":\"strawberry ice-cream\",\"category\":\"ice cream\",\"price\":90,\"exp_date\":\"1 dec 2021\",\"quantity\":2000},\n",
        "          9:{\"product id\":9,\"name\":\"mango ice-cream\",\"category\":\"ice cream\",\"price\":75,\"exp_date\":\"2 dec 2021\",\"quantity\":2000},\n",
        "          10:{\"product id\":10,\"name\":\"blueberry ice-cream\",\"category\":\"ice cream\",\"price\":150,\"exp_date\":\"22 dec 2021\",\"quantity\":2000},\n",
        "          11:{\"product id\":11,\"name\":\"coca cola\",\"category\":\"soft drink\",\"price\":25,\"exp_date\":\"15 dec 2021\",\"quantity\":2000},\n",
        "          12:{\"product id\":12,\"name\":\"spirit\",\"category\":\"soft drink\",\"price\":30,\"exp_date\":\"20 dec 2021\",\"quantity\":2000},\n",
        "          13:{\"product id\":13,\"name\":\"mazza\",\"category\":\"soft drink\",\"price\":50,\"exp_date\":\"12 dec 2021\",\"quantity\":2000},\n",
        "          14:{\"product id\":14,\"name\":\"bovonto\",\"category\":\"soft drink\",\"price\":20,\"exp_date\":\"15 dec 2021\",\"quantity\":2000},\n",
        "          15:{\"product id\":15,\"name\":\"miranda\",\"category\":\"soft drink\",\"price\":25,\"exp_date\":\"20 dec 2021\",\"quantity\":2000},\n",
        "          16:{\"product id\":16,\"name\":\"chocolate cake\",\"category\":\"cake\",\"price\":10,\"exp_date\":\"12 dec 2021\",\"quantity\":2000},\n",
        "          17:{\"product id\":17,\"name\":\"ice cream cake\",\"category\":\"cake\",\"price\":5,\"exp_date\":\"15 dec 2021\",\"quantity\":2000},\n",
        "          18:{\"product id\":18,\"name\":\"milk cake\",\"category\":\"cake\",\"price\":50,\"exp_date\":\"20 dec 2021\",\"quantity\":2000},\n",
        "          19:{\"product id\":19,\"name\":\"cheese cake\",\"category\":\"cake\",\"price\":10,\"exp_date\":\"12 dec 2021\",\"quantity\":2000},\n",
        "          20:{\"product id\":20,\"name\":\"pudding cake\",\"category\":\"cake\",\"price\":5,\"exp_date\":\"15 dec 2021\",\"quantity\":2000},\n",
        "          21:{\"product id\":21,\"name\":\"lays\",\"category\":\"chips\",\"price\":5,\"exp_date\":\"20 dec 2021\",\"quantity\":2000},\n",
        "          22:{\"product id\":22,\"name\":\"cheetos\",\"category\":\"chips\",\"price\":10,\"exp_date\":\"12 dec 2021\",\"quantity\":2000},\n",
        "          23:{\"product id\":23,\"name\":\"bingo\",\"category\":\"chips\",\"price\":15,\"exp_date\":\"15 dec 2021\",\"quantity\":2000},\n",
        "          24:{\"product id\":24,\"name\":\"picnic\",\"category\":\"chips\",\"price\":10,\"exp_date\":\"20 dec 2021\",\"quantity\":2000},\n",
        "          25:{\"product id\":25,\"name\":\"cheese balls\",\"category\":\"chips\",\"price\":15,\"exp_date\":\"12 dec 2021\",\"quantity\":2000},\n",
        "          26:{\"product id\":26,\"name\":\"milkbikis\",\"category\":\"biscuits\",\"price\":10,\"exp_date\":\"15 dec 2021\",\"quantity\":2000},\n",
        "          27:{\"product id\":27,\"name\":\"parle G\",\"category\":\"biscuits\",\"price\":3,\"exp_date\":\"20 dec 2021\",\"quantity\":2000},\n",
        "          28:{\"product id\":28,\"name\":\"dark fantasy\",\"category\":\"biscuits\",\"price\":30,\"exp_date\":\"12 dec 2021\",\"quantity\":2000},\n",
        "          29:{\"product id\":29,\"name\":\"50 50\",\"category\":\"biscuits\",\"price\":15,\"exp_date\":\"15 dec 2021\",\"quantity\":2000},\n",
        "          30:{\"product id\":30,\"name\":\"bourbon\",\"category\":\"biscuits\",\"price\":20,\"exp_date\":\"20 dec 2021\",\"quantity\":2000}}"
      ],
      "execution_count": 1,
      "outputs": []
    },
    {
      "cell_type": "code",
      "metadata": {
        "colab": {
          "base_uri": "https://localhost:8080/"
        },
        "id": "-AAuQN6Jj8qt",
        "outputId": "30757030-183b-4689-cad0-c29eb4f6fc40"
      },
      "source": [
        "record"
      ],
      "execution_count": 2,
      "outputs": [
        {
          "output_type": "execute_result",
          "data": {
            "text/plain": [
              "{1: {'category': 'chocolate',\n",
              "  'exp_date': '12 dec 2021',\n",
              "  'name': 'kit kat',\n",
              "  'price': 10,\n",
              "  'product id': 1,\n",
              "  'quantity': 2000},\n",
              " 2: {'category': 'chocolate',\n",
              "  'exp_date': '15 dec 2021',\n",
              "  'name': '5 star',\n",
              "  'price': 5,\n",
              "  'product id': 2,\n",
              "  'quantity': 2000},\n",
              " 3: {'category': 'chocolate',\n",
              "  'exp_date': '20 dec 2021',\n",
              "  'name': 'dairy milk',\n",
              "  'price': 50,\n",
              "  'product id': 3,\n",
              "  'quantity': 2000},\n",
              " 4: {'category': 'chocolate',\n",
              "  'exp_date': '25 dec 2021',\n",
              "  'name': 'milky bar',\n",
              "  'price': 25,\n",
              "  'product id': 4,\n",
              "  'quantity': 2000},\n",
              " 5: {'category': 'chocolate',\n",
              "  'exp_date': '3 dec 2021',\n",
              "  'name': 'nestle',\n",
              "  'price': 30,\n",
              "  'product id': 5,\n",
              "  'quantity': 2000},\n",
              " 6: {'category': 'ice cream',\n",
              "  'exp_date': '27 dec 2021',\n",
              "  'name': 'chocolate ice-cream',\n",
              "  'price': 100,\n",
              "  'product id': 6,\n",
              "  'quantity': 2000},\n",
              " 7: {'category': 'ice cream',\n",
              "  'exp_date': '12 dec 2021',\n",
              "  'name': 'vanilla ice-cream',\n",
              "  'price': 70,\n",
              "  'product id': 7,\n",
              "  'quantity': 2000},\n",
              " 8: {'category': 'ice cream',\n",
              "  'exp_date': '1 dec 2021',\n",
              "  'name': 'strawberry ice-cream',\n",
              "  'price': 90,\n",
              "  'product id': 8,\n",
              "  'quantity': 2000},\n",
              " 9: {'category': 'ice cream',\n",
              "  'exp_date': '2 dec 2021',\n",
              "  'name': 'mango ice-cream',\n",
              "  'price': 75,\n",
              "  'product id': 9,\n",
              "  'quantity': 2000},\n",
              " 10: {'category': 'ice cream',\n",
              "  'exp_date': '22 dec 2021',\n",
              "  'name': 'blueberry ice-cream',\n",
              "  'price': 150,\n",
              "  'product id': 10,\n",
              "  'quantity': 2000},\n",
              " 11: {'category': 'soft drink',\n",
              "  'exp_date': '15 dec 2021',\n",
              "  'name': 'coca cola',\n",
              "  'price': 25,\n",
              "  'product id': 11,\n",
              "  'quantity': 2000},\n",
              " 12: {'category': 'soft drink',\n",
              "  'exp_date': '20 dec 2021',\n",
              "  'name': 'spirit',\n",
              "  'price': 30,\n",
              "  'product id': 12,\n",
              "  'quantity': 2000},\n",
              " 13: {'category': 'soft drink',\n",
              "  'exp_date': '12 dec 2021',\n",
              "  'name': 'mazza',\n",
              "  'price': 50,\n",
              "  'product id': 13,\n",
              "  'quantity': 2000},\n",
              " 14: {'category': 'soft drink',\n",
              "  'exp_date': '15 dec 2021',\n",
              "  'name': 'bovonto',\n",
              "  'price': 20,\n",
              "  'product id': 14,\n",
              "  'quantity': 2000},\n",
              " 15: {'category': 'soft drink',\n",
              "  'exp_date': '20 dec 2021',\n",
              "  'name': 'miranda',\n",
              "  'price': 25,\n",
              "  'product id': 15,\n",
              "  'quantity': 2000},\n",
              " 16: {'category': 'cake',\n",
              "  'exp_date': '12 dec 2021',\n",
              "  'name': 'chocolate cake',\n",
              "  'price': 10,\n",
              "  'product id': 16,\n",
              "  'quantity': 2000},\n",
              " 17: {'category': 'cake',\n",
              "  'exp_date': '15 dec 2021',\n",
              "  'name': 'ice cream cake',\n",
              "  'price': 5,\n",
              "  'product id': 17,\n",
              "  'quantity': 2000},\n",
              " 18: {'category': 'cake',\n",
              "  'exp_date': '20 dec 2021',\n",
              "  'name': 'milk cake',\n",
              "  'price': 50,\n",
              "  'product id': 18,\n",
              "  'quantity': 2000},\n",
              " 19: {'category': 'cake',\n",
              "  'exp_date': '12 dec 2021',\n",
              "  'name': 'cheese cake',\n",
              "  'price': 10,\n",
              "  'product id': 19,\n",
              "  'quantity': 2000},\n",
              " 20: {'category': 'cake',\n",
              "  'exp_date': '15 dec 2021',\n",
              "  'name': 'pudding cake',\n",
              "  'price': 5,\n",
              "  'product id': 20,\n",
              "  'quantity': 2000},\n",
              " 21: {'category': 'chips',\n",
              "  'exp_date': '20 dec 2021',\n",
              "  'name': 'lays',\n",
              "  'price': 5,\n",
              "  'product id': 21,\n",
              "  'quantity': 2000},\n",
              " 22: {'category': 'chips',\n",
              "  'exp_date': '12 dec 2021',\n",
              "  'name': 'cheetos',\n",
              "  'price': 10,\n",
              "  'product id': 22,\n",
              "  'quantity': 2000},\n",
              " 23: {'category': 'chips',\n",
              "  'exp_date': '15 dec 2021',\n",
              "  'name': 'bingo',\n",
              "  'price': 15,\n",
              "  'product id': 23,\n",
              "  'quantity': 2000},\n",
              " 24: {'category': 'chips',\n",
              "  'exp_date': '20 dec 2021',\n",
              "  'name': 'picnic',\n",
              "  'price': 10,\n",
              "  'product id': 24,\n",
              "  'quantity': 2000},\n",
              " 25: {'category': 'chips',\n",
              "  'exp_date': '12 dec 2021',\n",
              "  'name': 'cheese balls',\n",
              "  'price': 15,\n",
              "  'product id': 25,\n",
              "  'quantity': 2000},\n",
              " 26: {'category': 'biscuits',\n",
              "  'exp_date': '15 dec 2021',\n",
              "  'name': 'milkbikis',\n",
              "  'price': 10,\n",
              "  'product id': 26,\n",
              "  'quantity': 2000},\n",
              " 27: {'category': 'biscuits',\n",
              "  'exp_date': '20 dec 2021',\n",
              "  'name': 'parle G',\n",
              "  'price': 3,\n",
              "  'product id': 27,\n",
              "  'quantity': 2000},\n",
              " 28: {'category': 'biscuits',\n",
              "  'exp_date': '12 dec 2021',\n",
              "  'name': 'dark fantasy',\n",
              "  'price': 30,\n",
              "  'product id': 28,\n",
              "  'quantity': 2000},\n",
              " 29: {'category': 'biscuits',\n",
              "  'exp_date': '15 dec 2021',\n",
              "  'name': '50 50',\n",
              "  'price': 15,\n",
              "  'product id': 29,\n",
              "  'quantity': 2000},\n",
              " 30: {'category': 'biscuits',\n",
              "  'exp_date': '20 dec 2021',\n",
              "  'name': 'bourbon',\n",
              "  'price': 20,\n",
              "  'product id': 30,\n",
              "  'quantity': 2000}}"
            ]
          },
          "metadata": {},
          "execution_count": 2
        }
      ]
    },
    {
      "cell_type": "code",
      "metadata": {
        "colab": {
          "base_uri": "https://localhost:8080/"
        },
        "id": "0ZKzITwpj-_N",
        "outputId": "013d6cf1-e50a-4cc2-b474-9456284a8069"
      },
      "source": [
        "import json\n",
        "js = json.dumps(record)\n",
        "\n",
        "fd = open(\"record.json\",'w')\n",
        "fd.write(js)\n",
        "fd.close()\n",
        "\n",
        "\n",
        "fd = open(\"record.json\",'r')\n",
        "txt = fd.read()\n",
        "fd.close()\n",
        "print(txt)\n",
        "\n",
        "\n",
        "record = json.loads(txt)\n",
        "print(record)"
      ],
      "execution_count": 3,
      "outputs": [
        {
          "output_type": "stream",
          "name": "stdout",
          "text": [
            "{\"1\": {\"product id\": 1, \"name\": \"kit kat\", \"category\": \"chocolate\", \"price\": 10, \"exp_date\": \"12 dec 2021\", \"quantity\": 2000}, \"2\": {\"product id\": 2, \"name\": \"5 star\", \"category\": \"chocolate\", \"price\": 5, \"exp_date\": \"15 dec 2021\", \"quantity\": 2000}, \"3\": {\"product id\": 3, \"name\": \"dairy milk\", \"category\": \"chocolate\", \"price\": 50, \"exp_date\": \"20 dec 2021\", \"quantity\": 2000}, \"4\": {\"product id\": 4, \"name\": \"milky bar\", \"category\": \"chocolate\", \"price\": 25, \"exp_date\": \"25 dec 2021\", \"quantity\": 2000}, \"5\": {\"product id\": 5, \"name\": \"nestle\", \"category\": \"chocolate\", \"price\": 30, \"exp_date\": \"3 dec 2021\", \"quantity\": 2000}, \"6\": {\"product id\": 6, \"name\": \"chocolate ice-cream\", \"category\": \"ice cream\", \"price\": 100, \"exp_date\": \"27 dec 2021\", \"quantity\": 2000}, \"7\": {\"product id\": 7, \"name\": \"vanilla ice-cream\", \"category\": \"ice cream\", \"price\": 70, \"exp_date\": \"12 dec 2021\", \"quantity\": 2000}, \"8\": {\"product id\": 8, \"name\": \"strawberry ice-cream\", \"category\": \"ice cream\", \"price\": 90, \"exp_date\": \"1 dec 2021\", \"quantity\": 2000}, \"9\": {\"product id\": 9, \"name\": \"mango ice-cream\", \"category\": \"ice cream\", \"price\": 75, \"exp_date\": \"2 dec 2021\", \"quantity\": 2000}, \"10\": {\"product id\": 10, \"name\": \"blueberry ice-cream\", \"category\": \"ice cream\", \"price\": 150, \"exp_date\": \"22 dec 2021\", \"quantity\": 2000}, \"11\": {\"product id\": 11, \"name\": \"coca cola\", \"category\": \"soft drink\", \"price\": 25, \"exp_date\": \"15 dec 2021\", \"quantity\": 2000}, \"12\": {\"product id\": 12, \"name\": \"spirit\", \"category\": \"soft drink\", \"price\": 30, \"exp_date\": \"20 dec 2021\", \"quantity\": 2000}, \"13\": {\"product id\": 13, \"name\": \"mazza\", \"category\": \"soft drink\", \"price\": 50, \"exp_date\": \"12 dec 2021\", \"quantity\": 2000}, \"14\": {\"product id\": 14, \"name\": \"bovonto\", \"category\": \"soft drink\", \"price\": 20, \"exp_date\": \"15 dec 2021\", \"quantity\": 2000}, \"15\": {\"product id\": 15, \"name\": \"miranda\", \"category\": \"soft drink\", \"price\": 25, \"exp_date\": \"20 dec 2021\", \"quantity\": 2000}, \"16\": {\"product id\": 16, \"name\": \"chocolate cake\", \"category\": \"cake\", \"price\": 10, \"exp_date\": \"12 dec 2021\", \"quantity\": 2000}, \"17\": {\"product id\": 17, \"name\": \"ice cream cake\", \"category\": \"cake\", \"price\": 5, \"exp_date\": \"15 dec 2021\", \"quantity\": 2000}, \"18\": {\"product id\": 18, \"name\": \"milk cake\", \"category\": \"cake\", \"price\": 50, \"exp_date\": \"20 dec 2021\", \"quantity\": 2000}, \"19\": {\"product id\": 19, \"name\": \"cheese cake\", \"category\": \"cake\", \"price\": 10, \"exp_date\": \"12 dec 2021\", \"quantity\": 2000}, \"20\": {\"product id\": 20, \"name\": \"pudding cake\", \"category\": \"cake\", \"price\": 5, \"exp_date\": \"15 dec 2021\", \"quantity\": 2000}, \"21\": {\"product id\": 21, \"name\": \"lays\", \"category\": \"chips\", \"price\": 5, \"exp_date\": \"20 dec 2021\", \"quantity\": 2000}, \"22\": {\"product id\": 22, \"name\": \"cheetos\", \"category\": \"chips\", \"price\": 10, \"exp_date\": \"12 dec 2021\", \"quantity\": 2000}, \"23\": {\"product id\": 23, \"name\": \"bingo\", \"category\": \"chips\", \"price\": 15, \"exp_date\": \"15 dec 2021\", \"quantity\": 2000}, \"24\": {\"product id\": 24, \"name\": \"picnic\", \"category\": \"chips\", \"price\": 10, \"exp_date\": \"20 dec 2021\", \"quantity\": 2000}, \"25\": {\"product id\": 25, \"name\": \"cheese balls\", \"category\": \"chips\", \"price\": 15, \"exp_date\": \"12 dec 2021\", \"quantity\": 2000}, \"26\": {\"product id\": 26, \"name\": \"milkbikis\", \"category\": \"biscuits\", \"price\": 10, \"exp_date\": \"15 dec 2021\", \"quantity\": 2000}, \"27\": {\"product id\": 27, \"name\": \"parle G\", \"category\": \"biscuits\", \"price\": 3, \"exp_date\": \"20 dec 2021\", \"quantity\": 2000}, \"28\": {\"product id\": 28, \"name\": \"dark fantasy\", \"category\": \"biscuits\", \"price\": 30, \"exp_date\": \"12 dec 2021\", \"quantity\": 2000}, \"29\": {\"product id\": 29, \"name\": \"50 50\", \"category\": \"biscuits\", \"price\": 15, \"exp_date\": \"15 dec 2021\", \"quantity\": 2000}, \"30\": {\"product id\": 30, \"name\": \"bourbon\", \"category\": \"biscuits\", \"price\": 20, \"exp_date\": \"20 dec 2021\", \"quantity\": 2000}}\n",
            "{'1': {'product id': 1, 'name': 'kit kat', 'category': 'chocolate', 'price': 10, 'exp_date': '12 dec 2021', 'quantity': 2000}, '2': {'product id': 2, 'name': '5 star', 'category': 'chocolate', 'price': 5, 'exp_date': '15 dec 2021', 'quantity': 2000}, '3': {'product id': 3, 'name': 'dairy milk', 'category': 'chocolate', 'price': 50, 'exp_date': '20 dec 2021', 'quantity': 2000}, '4': {'product id': 4, 'name': 'milky bar', 'category': 'chocolate', 'price': 25, 'exp_date': '25 dec 2021', 'quantity': 2000}, '5': {'product id': 5, 'name': 'nestle', 'category': 'chocolate', 'price': 30, 'exp_date': '3 dec 2021', 'quantity': 2000}, '6': {'product id': 6, 'name': 'chocolate ice-cream', 'category': 'ice cream', 'price': 100, 'exp_date': '27 dec 2021', 'quantity': 2000}, '7': {'product id': 7, 'name': 'vanilla ice-cream', 'category': 'ice cream', 'price': 70, 'exp_date': '12 dec 2021', 'quantity': 2000}, '8': {'product id': 8, 'name': 'strawberry ice-cream', 'category': 'ice cream', 'price': 90, 'exp_date': '1 dec 2021', 'quantity': 2000}, '9': {'product id': 9, 'name': 'mango ice-cream', 'category': 'ice cream', 'price': 75, 'exp_date': '2 dec 2021', 'quantity': 2000}, '10': {'product id': 10, 'name': 'blueberry ice-cream', 'category': 'ice cream', 'price': 150, 'exp_date': '22 dec 2021', 'quantity': 2000}, '11': {'product id': 11, 'name': 'coca cola', 'category': 'soft drink', 'price': 25, 'exp_date': '15 dec 2021', 'quantity': 2000}, '12': {'product id': 12, 'name': 'spirit', 'category': 'soft drink', 'price': 30, 'exp_date': '20 dec 2021', 'quantity': 2000}, '13': {'product id': 13, 'name': 'mazza', 'category': 'soft drink', 'price': 50, 'exp_date': '12 dec 2021', 'quantity': 2000}, '14': {'product id': 14, 'name': 'bovonto', 'category': 'soft drink', 'price': 20, 'exp_date': '15 dec 2021', 'quantity': 2000}, '15': {'product id': 15, 'name': 'miranda', 'category': 'soft drink', 'price': 25, 'exp_date': '20 dec 2021', 'quantity': 2000}, '16': {'product id': 16, 'name': 'chocolate cake', 'category': 'cake', 'price': 10, 'exp_date': '12 dec 2021', 'quantity': 2000}, '17': {'product id': 17, 'name': 'ice cream cake', 'category': 'cake', 'price': 5, 'exp_date': '15 dec 2021', 'quantity': 2000}, '18': {'product id': 18, 'name': 'milk cake', 'category': 'cake', 'price': 50, 'exp_date': '20 dec 2021', 'quantity': 2000}, '19': {'product id': 19, 'name': 'cheese cake', 'category': 'cake', 'price': 10, 'exp_date': '12 dec 2021', 'quantity': 2000}, '20': {'product id': 20, 'name': 'pudding cake', 'category': 'cake', 'price': 5, 'exp_date': '15 dec 2021', 'quantity': 2000}, '21': {'product id': 21, 'name': 'lays', 'category': 'chips', 'price': 5, 'exp_date': '20 dec 2021', 'quantity': 2000}, '22': {'product id': 22, 'name': 'cheetos', 'category': 'chips', 'price': 10, 'exp_date': '12 dec 2021', 'quantity': 2000}, '23': {'product id': 23, 'name': 'bingo', 'category': 'chips', 'price': 15, 'exp_date': '15 dec 2021', 'quantity': 2000}, '24': {'product id': 24, 'name': 'picnic', 'category': 'chips', 'price': 10, 'exp_date': '20 dec 2021', 'quantity': 2000}, '25': {'product id': 25, 'name': 'cheese balls', 'category': 'chips', 'price': 15, 'exp_date': '12 dec 2021', 'quantity': 2000}, '26': {'product id': 26, 'name': 'milkbikis', 'category': 'biscuits', 'price': 10, 'exp_date': '15 dec 2021', 'quantity': 2000}, '27': {'product id': 27, 'name': 'parle G', 'category': 'biscuits', 'price': 3, 'exp_date': '20 dec 2021', 'quantity': 2000}, '28': {'product id': 28, 'name': 'dark fantasy', 'category': 'biscuits', 'price': 30, 'exp_date': '12 dec 2021', 'quantity': 2000}, '29': {'product id': 29, 'name': '50 50', 'category': 'biscuits', 'price': 15, 'exp_date': '15 dec 2021', 'quantity': 2000}, '30': {'product id': 30, 'name': 'bourbon', 'category': 'biscuits', 'price': 20, 'exp_date': '20 dec 2021', 'quantity': 2000}}\n"
          ]
        }
      ]
    },
    {
      "cell_type": "code",
      "metadata": {
        "colab": {
          "base_uri": "https://localhost:8080/"
        },
        "id": "_M34uzQEkCnK",
        "outputId": "fa2045b7-f076-430f-91ca-b75d992cb26d"
      },
      "source": [
        "dct = json.loads(txt)\n",
        "dct"
      ],
      "execution_count": 4,
      "outputs": [
        {
          "output_type": "execute_result",
          "data": {
            "text/plain": [
              "{'1': {'category': 'chocolate',\n",
              "  'exp_date': '12 dec 2021',\n",
              "  'name': 'kit kat',\n",
              "  'price': 10,\n",
              "  'product id': 1,\n",
              "  'quantity': 2000},\n",
              " '10': {'category': 'ice cream',\n",
              "  'exp_date': '22 dec 2021',\n",
              "  'name': 'blueberry ice-cream',\n",
              "  'price': 150,\n",
              "  'product id': 10,\n",
              "  'quantity': 2000},\n",
              " '11': {'category': 'soft drink',\n",
              "  'exp_date': '15 dec 2021',\n",
              "  'name': 'coca cola',\n",
              "  'price': 25,\n",
              "  'product id': 11,\n",
              "  'quantity': 2000},\n",
              " '12': {'category': 'soft drink',\n",
              "  'exp_date': '20 dec 2021',\n",
              "  'name': 'spirit',\n",
              "  'price': 30,\n",
              "  'product id': 12,\n",
              "  'quantity': 2000},\n",
              " '13': {'category': 'soft drink',\n",
              "  'exp_date': '12 dec 2021',\n",
              "  'name': 'mazza',\n",
              "  'price': 50,\n",
              "  'product id': 13,\n",
              "  'quantity': 2000},\n",
              " '14': {'category': 'soft drink',\n",
              "  'exp_date': '15 dec 2021',\n",
              "  'name': 'bovonto',\n",
              "  'price': 20,\n",
              "  'product id': 14,\n",
              "  'quantity': 2000},\n",
              " '15': {'category': 'soft drink',\n",
              "  'exp_date': '20 dec 2021',\n",
              "  'name': 'miranda',\n",
              "  'price': 25,\n",
              "  'product id': 15,\n",
              "  'quantity': 2000},\n",
              " '16': {'category': 'cake',\n",
              "  'exp_date': '12 dec 2021',\n",
              "  'name': 'chocolate cake',\n",
              "  'price': 10,\n",
              "  'product id': 16,\n",
              "  'quantity': 2000},\n",
              " '17': {'category': 'cake',\n",
              "  'exp_date': '15 dec 2021',\n",
              "  'name': 'ice cream cake',\n",
              "  'price': 5,\n",
              "  'product id': 17,\n",
              "  'quantity': 2000},\n",
              " '18': {'category': 'cake',\n",
              "  'exp_date': '20 dec 2021',\n",
              "  'name': 'milk cake',\n",
              "  'price': 50,\n",
              "  'product id': 18,\n",
              "  'quantity': 2000},\n",
              " '19': {'category': 'cake',\n",
              "  'exp_date': '12 dec 2021',\n",
              "  'name': 'cheese cake',\n",
              "  'price': 10,\n",
              "  'product id': 19,\n",
              "  'quantity': 2000},\n",
              " '2': {'category': 'chocolate',\n",
              "  'exp_date': '15 dec 2021',\n",
              "  'name': '5 star',\n",
              "  'price': 5,\n",
              "  'product id': 2,\n",
              "  'quantity': 2000},\n",
              " '20': {'category': 'cake',\n",
              "  'exp_date': '15 dec 2021',\n",
              "  'name': 'pudding cake',\n",
              "  'price': 5,\n",
              "  'product id': 20,\n",
              "  'quantity': 2000},\n",
              " '21': {'category': 'chips',\n",
              "  'exp_date': '20 dec 2021',\n",
              "  'name': 'lays',\n",
              "  'price': 5,\n",
              "  'product id': 21,\n",
              "  'quantity': 2000},\n",
              " '22': {'category': 'chips',\n",
              "  'exp_date': '12 dec 2021',\n",
              "  'name': 'cheetos',\n",
              "  'price': 10,\n",
              "  'product id': 22,\n",
              "  'quantity': 2000},\n",
              " '23': {'category': 'chips',\n",
              "  'exp_date': '15 dec 2021',\n",
              "  'name': 'bingo',\n",
              "  'price': 15,\n",
              "  'product id': 23,\n",
              "  'quantity': 2000},\n",
              " '24': {'category': 'chips',\n",
              "  'exp_date': '20 dec 2021',\n",
              "  'name': 'picnic',\n",
              "  'price': 10,\n",
              "  'product id': 24,\n",
              "  'quantity': 2000},\n",
              " '25': {'category': 'chips',\n",
              "  'exp_date': '12 dec 2021',\n",
              "  'name': 'cheese balls',\n",
              "  'price': 15,\n",
              "  'product id': 25,\n",
              "  'quantity': 2000},\n",
              " '26': {'category': 'biscuits',\n",
              "  'exp_date': '15 dec 2021',\n",
              "  'name': 'milkbikis',\n",
              "  'price': 10,\n",
              "  'product id': 26,\n",
              "  'quantity': 2000},\n",
              " '27': {'category': 'biscuits',\n",
              "  'exp_date': '20 dec 2021',\n",
              "  'name': 'parle G',\n",
              "  'price': 3,\n",
              "  'product id': 27,\n",
              "  'quantity': 2000},\n",
              " '28': {'category': 'biscuits',\n",
              "  'exp_date': '12 dec 2021',\n",
              "  'name': 'dark fantasy',\n",
              "  'price': 30,\n",
              "  'product id': 28,\n",
              "  'quantity': 2000},\n",
              " '29': {'category': 'biscuits',\n",
              "  'exp_date': '15 dec 2021',\n",
              "  'name': '50 50',\n",
              "  'price': 15,\n",
              "  'product id': 29,\n",
              "  'quantity': 2000},\n",
              " '3': {'category': 'chocolate',\n",
              "  'exp_date': '20 dec 2021',\n",
              "  'name': 'dairy milk',\n",
              "  'price': 50,\n",
              "  'product id': 3,\n",
              "  'quantity': 2000},\n",
              " '30': {'category': 'biscuits',\n",
              "  'exp_date': '20 dec 2021',\n",
              "  'name': 'bourbon',\n",
              "  'price': 20,\n",
              "  'product id': 30,\n",
              "  'quantity': 2000},\n",
              " '4': {'category': 'chocolate',\n",
              "  'exp_date': '25 dec 2021',\n",
              "  'name': 'milky bar',\n",
              "  'price': 25,\n",
              "  'product id': 4,\n",
              "  'quantity': 2000},\n",
              " '5': {'category': 'chocolate',\n",
              "  'exp_date': '3 dec 2021',\n",
              "  'name': 'nestle',\n",
              "  'price': 30,\n",
              "  'product id': 5,\n",
              "  'quantity': 2000},\n",
              " '6': {'category': 'ice cream',\n",
              "  'exp_date': '27 dec 2021',\n",
              "  'name': 'chocolate ice-cream',\n",
              "  'price': 100,\n",
              "  'product id': 6,\n",
              "  'quantity': 2000},\n",
              " '7': {'category': 'ice cream',\n",
              "  'exp_date': '12 dec 2021',\n",
              "  'name': 'vanilla ice-cream',\n",
              "  'price': 70,\n",
              "  'product id': 7,\n",
              "  'quantity': 2000},\n",
              " '8': {'category': 'ice cream',\n",
              "  'exp_date': '1 dec 2021',\n",
              "  'name': 'strawberry ice-cream',\n",
              "  'price': 90,\n",
              "  'product id': 8,\n",
              "  'quantity': 2000},\n",
              " '9': {'category': 'ice cream',\n",
              "  'exp_date': '2 dec 2021',\n",
              "  'name': 'mango ice-cream',\n",
              "  'price': 75,\n",
              "  'product id': 9,\n",
              "  'quantity': 2000}}"
            ]
          },
          "metadata": {},
          "execution_count": 4
        }
      ]
    },
    {
      "cell_type": "markdown",
      "metadata": {
        "id": "VIfffAFykOPC"
      },
      "source": [
        "# PURCHASE"
      ]
    },
    {
      "cell_type": "code",
      "metadata": {
        "colab": {
          "base_uri": "https://localhost:8080/"
        },
        "id": "t_1lfux3kEWZ",
        "outputId": "cd195b09-c1f3-4847-adce-2831b9b52cd6"
      },
      "source": [
        "prod_id = (input(\"enter the product id:\"))\n",
        "prod_quan = int(input(\"enter the quantity id:\"))\n",
        "\n",
        "if (prod_id in dct.keys()):\n",
        "  if (prod_quan <= int(dct[prod_id][\"quantity\"]) ):\n",
        "\n",
        "    print(\"*************************************\")\n",
        "    print(\"the product you have entered\",prod_id)\n",
        "    print(\"the quatity you have entered \",prod_quan)\n",
        "    print(\"the name of the product\",record[prod_id]['name'])\n",
        "    print(\"the price the this product product\",record[prod_id]['price'])\n",
        "    print(\"the expiry date of this product\",record[prod_id]['exp_date'])\n",
        "    print(\"the total amt $\",int(prod_quan)*record[prod_id]['price'])\n",
        "    total = int(prod_quan)*record[prod_id]['price']\n",
        "    print(\"*************************************\")\n",
        "\n",
        "    print(\"plese enter the following to complete the purchase\")\n",
        "    user_name = str(input(\"enter your name:\"))\n",
        "    user_phone = str(input(\"enter your phone number\"))\n",
        "    print(\"your purchase is successful\")\n",
        "\n",
        "    #updating the inventory3\n",
        "    record[prod_id][\"quantity\"] = record[prod_id][\"quantity\"] - int(prod_quan)\n",
        "    js = json.dumps(record)\n",
        "\n",
        "    fd = open(\"record.json\",'w')\n",
        "    fd.write(js)\n",
        "    fd.close()\n",
        "  else:\n",
        "    print(\"Sorry the quantity is not available to your requirements \")\n",
        "    print(\"The available quantity is \",dct[prod_id][\"quantity\"])\n",
        "else:\n",
        "  print(\"sorry the product is not available in our inventory\")"
      ],
      "execution_count": 28,
      "outputs": [
        {
          "output_type": "stream",
          "name": "stdout",
          "text": [
            "enter the product id:3\n",
            "enter the quantity id:4\n",
            "*************************************\n",
            "the product you have entered 3\n",
            "the quatity you have entered  4\n",
            "the name of the product dairy milk\n",
            "the price the this product product 50\n",
            "the expiry date of this product 20 dec 2021\n",
            "the total amt $ 200\n",
            "*************************************\n",
            "plese enter the following to complete the purchase\n",
            "enter your name:swetha\n",
            "enter your phone number454545\n",
            "your purchase is successful\n"
          ]
        }
      ]
    },
    {
      "cell_type": "markdown",
      "metadata": {
        "id": "qXxwWCEekbfo"
      },
      "source": [
        "# ADDING NEW PRODUCT TO THE INVENTORY"
      ]
    },
    {
      "cell_type": "code",
      "metadata": {
        "colab": {
          "base_uri": "https://localhost:8080/"
        },
        "id": "_1EdQ545kQ6c",
        "outputId": "11291805-608e-43cb-b8e1-93e9fc623a4a"
      },
      "source": [
        "product_id = str(input(\"enter the product id:\"))\n",
        "name= str(input(\"enter the name of the product:\"))\n",
        "category = str(input(\"enter the product category\"))\n",
        "price= int(input(\"enter the product price\"))\n",
        "exp_date = str(input(\"enter the expiry date:\"))\n",
        "quantity = int(input(\"enter the product quantity\"))\n",
        "\n",
        "record[product_id]= {\"product id\":product_id,\"name\":name,\"category\":category,\"price\":price,\"exp_date\":exp_date,\"quantity\":quantity}\n",
        "print(\"the new product is successfully added to the inventory\")\n",
        "\n",
        "js = json.dumps(record)\n",
        "fd = open(\"record.json\",'w')\n",
        "fd.write(js)\n",
        "fd.close()"
      ],
      "execution_count": 6,
      "outputs": [
        {
          "output_type": "stream",
          "name": "stdout",
          "text": [
            "enter the product id:31\n",
            "enter the name of the product:mushroom\n",
            "enter the product categoryvegetable\n",
            "enter the product price50\n",
            "enter the expiry date:20th sep 2021\n",
            "enter the product quantity800\n",
            "the new product is successfully added to the inventory\n"
          ]
        }
      ]
    },
    {
      "cell_type": "code",
      "metadata": {
        "colab": {
          "base_uri": "https://localhost:8080/"
        },
        "id": "-PH3TvKpkfWO",
        "outputId": "e6abf882-ac54-4d6b-de81-8bfc52b1137d"
      },
      "source": [
        "{\"product\":prod_id,\"quantity\":prod_quan,\"total amt\":total}"
      ],
      "execution_count": 11,
      "outputs": [
        {
          "output_type": "execute_result",
          "data": {
            "text/plain": [
              "{'product': '1', 'quantity': 2, 'total amt': 20}"
            ]
          },
          "metadata": {},
          "execution_count": 11
        }
      ]
    },
    {
      "cell_type": "code",
      "metadata": {
        "id": "XgFnNTlYk1eg"
      },
      "source": [
        "sales = {1 :{\"product\":prod_id,\"quantity\":prod_quan,\"total amt\":total},\n",
        "         2 :{\"product\":prod_id,\"quantity\":prod_quan,\"total amt\":total},\n",
        "         3 :{\"product\":prod_id,\"quantity\":prod_quan,\"total amt\":total}}"
      ],
      "execution_count": 12,
      "outputs": []
    },
    {
      "cell_type": "code",
      "metadata": {
        "colab": {
          "base_uri": "https://localhost:8080/",
          "height": 51
        },
        "id": "KxhDja5Wlc7m",
        "outputId": "40b0208a-f4ac-45d6-c8e2-01367f11288a"
      },
      "source": [
        "json.dumps(sales)"
      ],
      "execution_count": 29,
      "outputs": [
        {
          "output_type": "execute_result",
          "data": {
            "application/vnd.google.colaboratory.intrinsic+json": {
              "type": "string"
            },
            "text/plain": [
              "'{\"1\": {\"product\": \"1\", \"quantity\": 2, \"total amt\": 20}, \"2\": {\"product\": \"1\", \"quantity\": 2, \"total amt\": 20}, \"3\": {\"product\": \"1\", \"quantity\": 2, \"total amt\": 20}, \"4\": {\"product\": \"1\", \"quantity\": 2, \"total amt\": 20}, \"5\": {\"product\": \"2\", \"quantity\": 3, \"total amt\": 15}}'"
            ]
          },
          "metadata": {},
          "execution_count": 29
        }
      ]
    },
    {
      "cell_type": "code",
      "metadata": {
        "colab": {
          "base_uri": "https://localhost:8080/"
        },
        "id": "TjDAVzZDli3D",
        "outputId": "fb85e821-bc38-4fcd-d5a2-3f237494998f"
      },
      "source": [
        "{(len(sales)+1):{\"product\":prod_id,\"quantity\":prod_quan,\"total amt\":total}}"
      ],
      "execution_count": 30,
      "outputs": [
        {
          "output_type": "execute_result",
          "data": {
            "text/plain": [
              "{6: {'product': '3', 'quantity': 4, 'total amt': 200}}"
            ]
          },
          "metadata": {},
          "execution_count": 30
        }
      ]
    },
    {
      "cell_type": "code",
      "metadata": {
        "id": "h_F4_x43loiK"
      },
      "source": [
        "sales[(len(sales)+1)] = {\"product\":prod_id,\"quantity\":prod_quan,\"total amt\":total}"
      ],
      "execution_count": 31,
      "outputs": []
    },
    {
      "cell_type": "code",
      "metadata": {
        "colab": {
          "base_uri": "https://localhost:8080/"
        },
        "id": "bEENGOrxme1j",
        "outputId": "a28d433d-94e1-48d5-dcb5-0430c16e1da7"
      },
      "source": [
        "sales"
      ],
      "execution_count": 32,
      "outputs": [
        {
          "output_type": "execute_result",
          "data": {
            "text/plain": [
              "{1: {'product': '1', 'quantity': 2, 'total amt': 20},\n",
              " 2: {'product': '1', 'quantity': 2, 'total amt': 20},\n",
              " 3: {'product': '1', 'quantity': 2, 'total amt': 20},\n",
              " 4: {'product': '1', 'quantity': 2, 'total amt': 20},\n",
              " 5: {'product': '2', 'quantity': 3, 'total amt': 15},\n",
              " 6: {'product': '3', 'quantity': 4, 'total amt': 200}}"
            ]
          },
          "metadata": {},
          "execution_count": 32
        }
      ]
    },
    {
      "cell_type": "code",
      "metadata": {
        "id": "VEaJgzETmg8I"
      },
      "source": [
        "ss = json.dumps(sales)\n",
        "fd = open(\"sales.json\",'w')\n",
        "fd.write(ss)\n",
        "fd.close()"
      ],
      "execution_count": 33,
      "outputs": []
    },
    {
      "cell_type": "code",
      "metadata": {
        "id": "s-qYokcMm0Gm"
      },
      "source": [
        ""
      ],
      "execution_count": null,
      "outputs": []
    }
  ]
}